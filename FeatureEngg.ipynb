{
 "cells": [
  {
   "cell_type": "code",
   "execution_count": 6,
   "metadata": {},
   "outputs": [],
   "source": [
    "import pandas as pd\n",
    "import numpy as np"
   ]
  },
  {
   "cell_type": "code",
   "execution_count": 7,
   "metadata": {},
   "outputs": [],
   "source": [
    "train = pd.read_csv(\"../MachineHackODIMatchWinner/Train.csv\")\n",
    "test = pd.read_csv(\"../MachineHackODIMatchWinner/Test.csv\")\n",
    "\n",
    "#sf = pd.read_excel(\"../MachinehackGlassQualityPrediction/Glass_Quality_Participants_Data/Sample_Submission.xlsx\")\n"
   ]
  },
  {
   "cell_type": "code",
   "execution_count": 8,
   "metadata": {},
   "outputs": [],
   "source": [
    "nrow = train.shape[0]\n",
    "train['isTrain'] =1\n",
    "test['MatchWinner'] =-1\n",
    "test['isTrain'] =0\n",
    "\n",
    "data = pd.concat([train,test],axis=0,sort = False).reset_index(drop=True)"
   ]
  },
  {
   "cell_type": "code",
   "execution_count": 9,
   "metadata": {},
   "outputs": [
    {
     "data": {
      "text/plain": [
       "(2508, 11)"
      ]
     },
     "execution_count": 9,
     "metadata": {},
     "output_type": "execute_result"
    }
   ],
   "source": [
    "train.shape"
   ]
  },
  {
   "cell_type": "code",
   "execution_count": 10,
   "metadata": {},
   "outputs": [
    {
     "data": {
      "text/plain": [
       "(1075, 11)"
      ]
     },
     "execution_count": 10,
     "metadata": {},
     "output_type": "execute_result"
    }
   ],
   "source": [
    "test.shape"
   ]
  },
  {
   "cell_type": "code",
   "execution_count": 11,
   "metadata": {},
   "outputs": [],
   "source": [
    "#data\n",
    "import seaborn as sns"
   ]
  },
  {
   "cell_type": "code",
   "execution_count": 12,
   "metadata": {},
   "outputs": [
    {
     "data": {
      "text/plain": [
       "<matplotlib.axes._subplots.AxesSubplot at 0x7f6a51a6dcf8>"
      ]
     },
     "execution_count": 12,
     "metadata": {},
     "output_type": "execute_result"
    },
    {
     "data": {
      "image/png": "[encoded data removed]",
      "text/plain": [
       "<Figure size 432x288 with 2 Axes>"
      ]
     },
     "metadata": {
      "needs_background": "light"
     },
     "output_type": "display_data"
    }
   ],
   "source": [
    "corr = data.corr()\n",
    "sns.heatmap(corr)"
   ]
  },
  {
   "cell_type": "code",
   "execution_count": 13,
   "metadata": {},
   "outputs": [],
   "source": [
    "# from sklearn.cluster import KMeans\n",
    "# from sklearn.metrics import silhouette_samples, silhouette_score\n",
    "# import matplotlib.cm as cm\n",
    "# from scipy.spatial.distance import cdist \n",
    "# import matplotlib.pyplot as plt\n"
   ]
  },
  {
   "cell_type": "code",
   "execution_count": 14,
   "metadata": {},
   "outputs": [],
   "source": [
    "# distortions = [] \n",
    "# inertias = [] \n",
    "# mapping1 = {} \n",
    "# mapping2 = {} \n",
    "\n",
    "# K = [10,15,16,17,18,19,20,21,22,23,24,25,30,40,50,60,70,80,90,100]\n",
    "# for k in K :\n",
    "        \n",
    "#     km = KMeans(n_clusters=k, random_state=10)\n",
    "#     cluster_labels = km.fit_predict(X)\n",
    "\n",
    "#     #silhouette_avg = silhouette_score((np.array(df['max_luminosity'])).reshape(-1,1), cluster_labels)\n",
    "#     #print(\"For n_clusters =\", n_clusters,\"The average silhouette_score is :\", silhouette_avg)\n",
    "        \n",
    "#     distortions.append(sum(np.min(cdist(X, km.cluster_centers_, \n",
    "#                       'euclidean'),axis=1)) / X.shape[0]) \n",
    "#     inertias.append(km.inertia_) \n",
    "  \n",
    "#     mapping1[k] = sum(np.min(cdist(X, km.cluster_centers_, \n",
    "#                  'euclidean'),axis=1)) / X.shape[0] \n",
    "#     mapping2[k] = km.inertia_ "
   ]
  },
  {
   "cell_type": "code",
   "execution_count": 15,
   "metadata": {},
   "outputs": [],
   "source": [
    "# plt.plot(K, distortions, 'bx-') \n",
    "# plt.xlabel('Values of K') \n",
    "# plt.ylabel('Distortion') \n",
    "# plt.title('The Elbow Method using Distortion') \n",
    "# plt.show() "
   ]
  },
  {
   "cell_type": "code",
   "execution_count": 16,
   "metadata": {},
   "outputs": [],
   "source": [
    "# plt.plot(K, inertias, 'bx-') \n",
    "# plt.xlabel('Values of K') \n",
    "# plt.ylabel('Inertia') \n",
    "# plt.title('The Elbow Method using Inertia') \n",
    "# plt.show() "
   ]
  },
  {
   "cell_type": "code",
   "execution_count": null,
   "metadata": {},
   "outputs": [],
   "source": []
  },
  {
   "cell_type": "code",
   "execution_count": null,
   "metadata": {},
   "outputs": [],
   "source": []
  },
  {
   "cell_type": "code",
   "execution_count": null,
   "metadata": {},
   "outputs": [],
   "source": []
  },
  {
   "cell_type": "code",
   "execution_count": null,
   "metadata": {},
   "outputs": [],
   "source": []
  },
  {
   "cell_type": "code",
   "execution_count": null,
   "metadata": {},
   "outputs": [],
   "source": []
  },
  {
   "cell_type": "code",
   "execution_count": null,
   "metadata": {},
   "outputs": [],
   "source": []
  },
  {
   "cell_type": "code",
   "execution_count": null,
   "metadata": {},
   "outputs": [],
   "source": []
  },
  {
   "cell_type": "code",
   "execution_count": 17,
   "metadata": {},
   "outputs": [
    {
     "data": {
      "text/html": [
       "<div>\n",
       "<style scoped>\n",
       "    .dataframe tbody tr th:only-of-type {\n",
       "        vertical-align: middle;\n",
       "    }\n",
       "\n",
       "    .dataframe tbody tr th {\n",
       "        vertical-align: top;\n",
       "    }\n",
       "\n",
       "    .dataframe thead tr th {\n",
       "        text-align: left;\n",
       "    }\n",
       "\n",
       "    .dataframe thead tr:last-of-type th {\n",
       "        text-align: right;\n",
       "    }\n",
       "</style>\n",
       "<table border=\"1\" class=\"dataframe\">\n",
       "  <thead>\n",
       "    <tr>\n",
       "      <th></th>\n",
       "      <th></th>\n",
       "      <th colspan=\"3\" halign=\"left\">Team1</th>\n",
       "      <th colspan=\"3\" halign=\"left\">Team2</th>\n",
       "      <th colspan=\"3\" halign=\"left\">HostCountry</th>\n",
       "      <th colspan=\"3\" halign=\"left\">MatchWinner</th>\n",
       "      <th colspan=\"3\" halign=\"left\">isTrain</th>\n",
       "    </tr>\n",
       "    <tr>\n",
       "      <th></th>\n",
       "      <th></th>\n",
       "      <th>mean</th>\n",
       "      <th>median</th>\n",
       "      <th>count</th>\n",
       "      <th>mean</th>\n",
       "      <th>median</th>\n",
       "      <th>count</th>\n",
       "      <th>mean</th>\n",
       "      <th>median</th>\n",
       "      <th>count</th>\n",
       "      <th>mean</th>\n",
       "      <th>median</th>\n",
       "      <th>count</th>\n",
       "      <th>mean</th>\n",
       "      <th>median</th>\n",
       "      <th>count</th>\n",
       "    </tr>\n",
       "    <tr>\n",
       "      <th>Stadium</th>\n",
       "      <th>Team1_Innings</th>\n",
       "      <th></th>\n",
       "      <th></th>\n",
       "      <th></th>\n",
       "      <th></th>\n",
       "      <th></th>\n",
       "      <th></th>\n",
       "      <th></th>\n",
       "      <th></th>\n",
       "      <th></th>\n",
       "      <th></th>\n",
       "      <th></th>\n",
       "      <th></th>\n",
       "      <th></th>\n",
       "      <th></th>\n",
       "      <th></th>\n",
       "    </tr>\n",
       "  </thead>\n",
       "  <tbody>\n",
       "    <tr>\n",
       "      <th rowspan=\"2\" valign=\"top\">0</th>\n",
       "      <th>First</th>\n",
       "      <td>11.000000</td>\n",
       "      <td>11.0</td>\n",
       "      <td>4</td>\n",
       "      <td>6.750000</td>\n",
       "      <td>7.5</td>\n",
       "      <td>4</td>\n",
       "      <td>11</td>\n",
       "      <td>11</td>\n",
       "      <td>4</td>\n",
       "      <td>8.500000</td>\n",
       "      <td>10.0</td>\n",
       "      <td>4</td>\n",
       "      <td>1.000000</td>\n",
       "      <td>1.0</td>\n",
       "      <td>4</td>\n",
       "    </tr>\n",
       "    <tr>\n",
       "      <th>Second</th>\n",
       "      <td>10.285714</td>\n",
       "      <td>11.0</td>\n",
       "      <td>7</td>\n",
       "      <td>6.142857</td>\n",
       "      <td>6.0</td>\n",
       "      <td>7</td>\n",
       "      <td>11</td>\n",
       "      <td>11</td>\n",
       "      <td>7</td>\n",
       "      <td>4.571429</td>\n",
       "      <td>4.0</td>\n",
       "      <td>7</td>\n",
       "      <td>0.571429</td>\n",
       "      <td>1.0</td>\n",
       "      <td>7</td>\n",
       "    </tr>\n",
       "    <tr>\n",
       "      <th rowspan=\"2\" valign=\"top\">1</th>\n",
       "      <th>First</th>\n",
       "      <td>6.476190</td>\n",
       "      <td>9.0</td>\n",
       "      <td>21</td>\n",
       "      <td>11.095238</td>\n",
       "      <td>10.0</td>\n",
       "      <td>21</td>\n",
       "      <td>14</td>\n",
       "      <td>14</td>\n",
       "      <td>21</td>\n",
       "      <td>3.380952</td>\n",
       "      <td>-1.0</td>\n",
       "      <td>21</td>\n",
       "      <td>0.476190</td>\n",
       "      <td>0.0</td>\n",
       "      <td>21</td>\n",
       "    </tr>\n",
       "    <tr>\n",
       "      <th>Second</th>\n",
       "      <td>8.333333</td>\n",
       "      <td>10.0</td>\n",
       "      <td>12</td>\n",
       "      <td>12.166667</td>\n",
       "      <td>12.5</td>\n",
       "      <td>12</td>\n",
       "      <td>14</td>\n",
       "      <td>14</td>\n",
       "      <td>12</td>\n",
       "      <td>2.833333</td>\n",
       "      <td>-1.0</td>\n",
       "      <td>12</td>\n",
       "      <td>0.416667</td>\n",
       "      <td>0.0</td>\n",
       "      <td>12</td>\n",
       "    </tr>\n",
       "    <tr>\n",
       "      <th>2</th>\n",
       "      <th>First</th>\n",
       "      <td>3.772727</td>\n",
       "      <td>1.0</td>\n",
       "      <td>44</td>\n",
       "      <td>11.000000</td>\n",
       "      <td>13.0</td>\n",
       "      <td>44</td>\n",
       "      <td>0</td>\n",
       "      <td>0</td>\n",
       "      <td>44</td>\n",
       "      <td>4.477273</td>\n",
       "      <td>1.0</td>\n",
       "      <td>44</td>\n",
       "      <td>0.772727</td>\n",
       "      <td>1.0</td>\n",
       "      <td>44</td>\n",
       "    </tr>\n",
       "    <tr>\n",
       "      <th>...</th>\n",
       "      <th>...</th>\n",
       "      <td>...</td>\n",
       "      <td>...</td>\n",
       "      <td>...</td>\n",
       "      <td>...</td>\n",
       "      <td>...</td>\n",
       "      <td>...</td>\n",
       "      <td>...</td>\n",
       "      <td>...</td>\n",
       "      <td>...</td>\n",
       "      <td>...</td>\n",
       "      <td>...</td>\n",
       "      <td>...</td>\n",
       "      <td>...</td>\n",
       "      <td>...</td>\n",
       "      <td>...</td>\n",
       "    </tr>\n",
       "    <tr>\n",
       "      <th>148</th>\n",
       "      <th>Second</th>\n",
       "      <td>5.833333</td>\n",
       "      <td>5.0</td>\n",
       "      <td>6</td>\n",
       "      <td>8.500000</td>\n",
       "      <td>11.0</td>\n",
       "      <td>6</td>\n",
       "      <td>4</td>\n",
       "      <td>4</td>\n",
       "      <td>6</td>\n",
       "      <td>5.666667</td>\n",
       "      <td>5.0</td>\n",
       "      <td>6</td>\n",
       "      <td>1.000000</td>\n",
       "      <td>1.0</td>\n",
       "      <td>6</td>\n",
       "    </tr>\n",
       "    <tr>\n",
       "      <th rowspan=\"2\" valign=\"top\">149</th>\n",
       "      <th>First</th>\n",
       "      <td>8.760000</td>\n",
       "      <td>9.0</td>\n",
       "      <td>25</td>\n",
       "      <td>7.480000</td>\n",
       "      <td>5.0</td>\n",
       "      <td>25</td>\n",
       "      <td>9</td>\n",
       "      <td>9</td>\n",
       "      <td>25</td>\n",
       "      <td>7.360000</td>\n",
       "      <td>9.0</td>\n",
       "      <td>25</td>\n",
       "      <td>0.920000</td>\n",
       "      <td>1.0</td>\n",
       "      <td>25</td>\n",
       "    </tr>\n",
       "    <tr>\n",
       "      <th>Second</th>\n",
       "      <td>8.680000</td>\n",
       "      <td>9.0</td>\n",
       "      <td>25</td>\n",
       "      <td>8.800000</td>\n",
       "      <td>10.0</td>\n",
       "      <td>25</td>\n",
       "      <td>9</td>\n",
       "      <td>9</td>\n",
       "      <td>25</td>\n",
       "      <td>4.440000</td>\n",
       "      <td>5.0</td>\n",
       "      <td>25</td>\n",
       "      <td>0.600000</td>\n",
       "      <td>1.0</td>\n",
       "      <td>25</td>\n",
       "    </tr>\n",
       "    <tr>\n",
       "      <th>150</th>\n",
       "      <th>First</th>\n",
       "      <td>9.000000</td>\n",
       "      <td>9.0</td>\n",
       "      <td>1</td>\n",
       "      <td>15.000000</td>\n",
       "      <td>15.0</td>\n",
       "      <td>1</td>\n",
       "      <td>9</td>\n",
       "      <td>9</td>\n",
       "      <td>1</td>\n",
       "      <td>9.000000</td>\n",
       "      <td>9.0</td>\n",
       "      <td>1</td>\n",
       "      <td>1.000000</td>\n",
       "      <td>1.0</td>\n",
       "      <td>1</td>\n",
       "    </tr>\n",
       "    <tr>\n",
       "      <th>151</th>\n",
       "      <th>Second</th>\n",
       "      <td>9.333333</td>\n",
       "      <td>13.0</td>\n",
       "      <td>3</td>\n",
       "      <td>13.666667</td>\n",
       "      <td>15.0</td>\n",
       "      <td>3</td>\n",
       "      <td>3</td>\n",
       "      <td>3</td>\n",
       "      <td>3</td>\n",
       "      <td>-0.333333</td>\n",
       "      <td>-1.0</td>\n",
       "      <td>3</td>\n",
       "      <td>0.333333</td>\n",
       "      <td>0.0</td>\n",
       "      <td>3</td>\n",
       "    </tr>\n",
       "  </tbody>\n",
       "</table>\n",
       "<p>278 rows × 15 columns</p>\n",
       "</div>"
      ],
      "text/plain": [
       "                           Team1                   Team2               \\\n",
       "                            mean median count       mean median count   \n",
       "Stadium Team1_Innings                                                   \n",
       "0       First          11.000000   11.0     4   6.750000    7.5     4   \n",
       "        Second         10.285714   11.0     7   6.142857    6.0     7   \n",
       "1       First           6.476190    9.0    21  11.095238   10.0    21   \n",
       "        Second          8.333333   10.0    12  12.166667   12.5    12   \n",
       "2       First           3.772727    1.0    44  11.000000   13.0    44   \n",
       "...                          ...    ...   ...        ...    ...   ...   \n",
       "148     Second          5.833333    5.0     6   8.500000   11.0     6   \n",
       "149     First           8.760000    9.0    25   7.480000    5.0    25   \n",
       "        Second          8.680000    9.0    25   8.800000   10.0    25   \n",
       "150     First           9.000000    9.0     1  15.000000   15.0     1   \n",
       "151     Second          9.333333   13.0     3  13.666667   15.0     3   \n",
       "\n",
       "                      HostCountry              MatchWinner               \\\n",
       "                             mean median count        mean median count   \n",
       "Stadium Team1_Innings                                                     \n",
       "0       First                  11     11     4    8.500000   10.0     4   \n",
       "        Second                 11     11     7    4.571429    4.0     7   \n",
       "1       First                  14     14    21    3.380952   -1.0    21   \n",
       "        Second                 14     14    12    2.833333   -1.0    12   \n",
       "2       First                   0      0    44    4.477273    1.0    44   \n",
       "...                           ...    ...   ...         ...    ...   ...   \n",
       "148     Second                  4      4     6    5.666667    5.0     6   \n",
       "149     First                   9      9    25    7.360000    9.0    25   \n",
       "        Second                  9      9    25    4.440000    5.0    25   \n",
       "150     First                   9      9     1    9.000000    9.0     1   \n",
       "151     Second                  3      3     3   -0.333333   -1.0     3   \n",
       "\n",
       "                        isTrain               \n",
       "                           mean median count  \n",
       "Stadium Team1_Innings                         \n",
       "0       First          1.000000    1.0     4  \n",
       "        Second         0.571429    1.0     7  \n",
       "1       First          0.476190    0.0    21  \n",
       "        Second         0.416667    0.0    12  \n",
       "2       First          0.772727    1.0    44  \n",
       "...                         ...    ...   ...  \n",
       "148     Second         1.000000    1.0     6  \n",
       "149     First          0.920000    1.0    25  \n",
       "        Second         0.600000    1.0    25  \n",
       "150     First          1.000000    1.0     1  \n",
       "151     Second         0.333333    0.0     3  \n",
       "\n",
       "[278 rows x 15 columns]"
      ]
     },
     "execution_count": 17,
     "metadata": {},
     "output_type": "execute_result"
    }
   ],
   "source": [
    "data.groupby(['Stadium','Team1_Innings']).agg(['mean','median','count'])"
   ]
  },
  {
   "cell_type": "code",
   "execution_count": 18,
   "metadata": {},
   "outputs": [
    {
     "name": "stderr",
     "output_type": "stream",
     "text": [
      "/home/ryan/.local/lib/python3.6/site-packages/ipykernel_launcher.py:4: SettingWithCopyWarning: \n",
      "A value is trying to be set on a copy of a slice from a DataFrame\n",
      "\n",
      "See the caveats in the documentation: http://pandas.pydata.org/pandas-docs/stable/user_guide/indexing.html#returning-a-view-versus-a-copy\n",
      "  after removing the cwd from sys.path.\n",
      "/home/ryan/.local/lib/python3.6/site-packages/ipykernel_launcher.py:6: SettingWithCopyWarning: \n",
      "A value is trying to be set on a copy of a slice from a DataFrame\n",
      "\n",
      "See the caveats in the documentation: http://pandas.pydata.org/pandas-docs/stable/user_guide/indexing.html#returning-a-view-versus-a-copy\n",
      "  \n"
     ]
    }
   ],
   "source": [
    "data['Home2Inning'] = 'OH yeah'\n",
    "for i in data.index:\n",
    "    if(data['Team1_Venue'][i] == 'Home' and data['Team1_Innings'][i]=='Second'):\n",
    "            data['Home2Inning'][i] ='Yes'\n",
    "    else:\n",
    "            data['Home2Inning'][i] = 'No'\n",
    "    "
   ]
  },
  {
   "cell_type": "code",
   "execution_count": 19,
   "metadata": {},
   "outputs": [],
   "source": [
    "# data['Home1Inning'] = 'oh yeah'\n",
    "# for i in data.index:\n",
    "#     if(data['Team1_Venue'][i] == 'Home' and data['Team1_Innings'][i]=='First'):\n",
    "#             data['Home1Inning'][i] ='Yes'\n",
    "#     else:\n",
    "#             data['Home1Inning'][i] ='No'\n",
    "    "
   ]
  },
  {
   "cell_type": "code",
   "execution_count": 20,
   "metadata": {},
   "outputs": [
    {
     "name": "stderr",
     "output_type": "stream",
     "text": [
      "/home/ryan/.local/lib/python3.6/site-packages/ipykernel_launcher.py:7: SettingWithCopyWarning: \n",
      "A value is trying to be set on a copy of a slice from a DataFrame\n",
      "\n",
      "See the caveats in the documentation: http://pandas.pydata.org/pandas-docs/stable/user_guide/indexing.html#returning-a-view-versus-a-copy\n",
      "  import sys\n",
      "/home/ryan/.local/lib/python3.6/site-packages/ipykernel_launcher.py:5: SettingWithCopyWarning: \n",
      "A value is trying to be set on a copy of a slice from a DataFrame\n",
      "\n",
      "See the caveats in the documentation: http://pandas.pydata.org/pandas-docs/stable/user_guide/indexing.html#returning-a-view-versus-a-copy\n",
      "  \"\"\"\n"
     ]
    }
   ],
   "source": [
    "data['Neutral2Inning'] = 'foo'\n",
    "\n",
    "for i in data.index:\n",
    "    if(data['Team1_Venue'][i] == 'Neutral' and data['Team1_Innings'][i]=='Second'):\n",
    "            data['Neutral2Inning'][i] = 'Yes'\n",
    "    else:\n",
    "            data['Neutral2Inning'][i] = 'No'\n",
    "    "
   ]
  },
  {
   "cell_type": "code",
   "execution_count": 21,
   "metadata": {},
   "outputs": [],
   "source": [
    "# data['Neutral1Inning'] ='foo'\n",
    "\n",
    "# for i in data.index:\n",
    "#     if(data['Team1_Venue'][i] == 'Neutral' and data['Team1_Innings'][i]=='First'):\n",
    "#             data['Neutral1Inning'][i] ='Yes'\n",
    "#     else:\n",
    "#             data['Neutral1Inning'][i] = 'No'\n",
    "    "
   ]
  },
  {
   "cell_type": "code",
   "execution_count": 22,
   "metadata": {},
   "outputs": [],
   "source": [
    "# data['Away1Inning'] = 'foo'\n",
    "# for i in data.index:\n",
    "#     if(data['Team1_Venue'][i] == 'Away' and data['Team1_Innings'][i]=='First'):\n",
    "#             data['Away1Inning'][i] = 'Yes'\n",
    "#     else:\n",
    "#             data['Away1Inning'][i] = 'No'\n",
    "    "
   ]
  },
  {
   "cell_type": "code",
   "execution_count": 23,
   "metadata": {},
   "outputs": [
    {
     "name": "stderr",
     "output_type": "stream",
     "text": [
      "/home/ryan/.local/lib/python3.6/site-packages/ipykernel_launcher.py:4: SettingWithCopyWarning: \n",
      "A value is trying to be set on a copy of a slice from a DataFrame\n",
      "\n",
      "See the caveats in the documentation: http://pandas.pydata.org/pandas-docs/stable/user_guide/indexing.html#returning-a-view-versus-a-copy\n",
      "  after removing the cwd from sys.path.\n",
      "/home/ryan/.local/lib/python3.6/site-packages/ipykernel_launcher.py:6: SettingWithCopyWarning: \n",
      "A value is trying to be set on a copy of a slice from a DataFrame\n",
      "\n",
      "See the caveats in the documentation: http://pandas.pydata.org/pandas-docs/stable/user_guide/indexing.html#returning-a-view-versus-a-copy\n",
      "  \n"
     ]
    }
   ],
   "source": [
    "data['Away2Inning'] = 'foo'\n",
    "for i in data.index:\n",
    "    if(data['Team1_Venue'][i] == 'Home' and data['Team1_Innings'][i]=='Second'):\n",
    "            data['Away2Inning'][i] ='Yes'\n",
    "    else:\n",
    "            data['Away2Inning'][i] ='No'\n",
    "    "
   ]
  },
  {
   "cell_type": "code",
   "execution_count": 24,
   "metadata": {},
   "outputs": [],
   "source": [
    "# data['Stadium'] "
   ]
  },
  {
   "cell_type": "code",
   "execution_count": 25,
   "metadata": {},
   "outputs": [],
   "source": [
    "# data.groupby(['Stadium','Team1']).count()"
   ]
  },
  {
   "cell_type": "code",
   "execution_count": 26,
   "metadata": {},
   "outputs": [
    {
     "data": {
      "text/plain": [
       "count    3583.000000\n",
       "mean       72.730394\n",
       "std        43.588258\n",
       "min         0.000000\n",
       "25%        36.000000\n",
       "50%        69.000000\n",
       "75%       111.000000\n",
       "max       151.000000\n",
       "Name: Stadium, dtype: float64"
      ]
     },
     "execution_count": 26,
     "metadata": {},
     "output_type": "execute_result"
    }
   ],
   "source": [
    "data.Stadium.describe()"
   ]
  },
  {
   "cell_type": "code",
   "execution_count": 27,
   "metadata": {},
   "outputs": [],
   "source": [
    "# (data.Stadium.value_counts()>50).sum()"
   ]
  },
  {
   "cell_type": "code",
   "execution_count": 28,
   "metadata": {},
   "outputs": [],
   "source": [
    "data =  data.drop(['Stadium','Team2_Innings','Team2_Venue'], axis=1)"
   ]
  },
  {
   "cell_type": "code",
   "execution_count": 29,
   "metadata": {},
   "outputs": [],
   "source": [
    "# data['Stadium'] = (data['Stadium']+15)/data['Stadium'].max()"
   ]
  },
  {
   "cell_type": "code",
   "execution_count": 30,
   "metadata": {},
   "outputs": [],
   "source": [
    "train = data[data['isTrain']==1]\n",
    "test = data[data['isTrain']==0]\n"
   ]
  },
  {
   "cell_type": "code",
   "execution_count": 31,
   "metadata": {},
   "outputs": [
    {
     "data": {
      "text/plain": [
       "923"
      ]
     },
     "execution_count": 31,
     "metadata": {},
     "output_type": "execute_result"
    }
   ],
   "source": [
    "train.duplicated().sum()"
   ]
  },
  {
   "cell_type": "code",
   "execution_count": 32,
   "metadata": {},
   "outputs": [
    {
     "data": {
      "text/plain": [
       "340"
      ]
     },
     "execution_count": 32,
     "metadata": {},
     "output_type": "execute_result"
    }
   ],
   "source": [
    "test.duplicated().sum()"
   ]
  },
  {
   "cell_type": "code",
   "execution_count": 33,
   "metadata": {},
   "outputs": [],
   "source": [
    "train = train.drop(['isTrain'],axis=1)\n",
    "test = test.drop(['MatchWinner', 'isTrain'],axis=1)"
   ]
  },
  {
   "cell_type": "code",
   "execution_count": null,
   "metadata": {},
   "outputs": [],
   "source": []
  },
  {
   "cell_type": "code",
   "execution_count": 34,
   "metadata": {},
   "outputs": [],
   "source": [
    "def normalabelencoder(train,test,cols):\n",
    "    from sklearn.preprocessing import LabelEncoder\n",
    "\n",
    "    label_enc = LabelEncoder()\n",
    "    \n",
    "    print(cols)\n",
    "    for col in cols:\n",
    "        label_enc.fit(train[col])\n",
    "        train[col] = label_enc.transform(train[col])\n",
    "        test[col] = label_enc.transform(test[col])\n",
    "    \n",
    "    return train,test\n"
   ]
  },
  {
   "cell_type": "code",
   "execution_count": 35,
   "metadata": {},
   "outputs": [],
   "source": [
    "def onhotencoder(train,test,cols):\n",
    "    \n",
    "    from sklearn.preprocessing import OneHotEncoder\n",
    "    #object_cols = catVar1(train) #catVar1 gives desired categorical column and not all object columns\n",
    "    object_cols=cols\n",
    "    print(object_cols)\n",
    "    \n",
    "    OH_encoder = OneHotEncoder(handle_unknown='ignore', sparse=False)\n",
    "    OH_cols_train = pd.DataFrame(OH_encoder.fit_transform(train[object_cols]))\n",
    "    OH_cols_test = pd.DataFrame(OH_encoder.transform(test[object_cols]))\n",
    "\n",
    "    # One-hot encoding removed index; put it back\n",
    "    OH_cols_train.index = train.index\n",
    "    OH_cols_test.index = test.index\n",
    "\n",
    "    ##hack for restoring columns names just like get dummies\n",
    "    column_name = OH_encoder.get_feature_names(object_cols)\n",
    "    OH_cols_train.columns = column_name\n",
    "    OH_cols_test.columns = column_name\n",
    "    \n",
    "\n",
    "    # Remove desired categorical columns (will replace with one-hot encoding)\n",
    "    num_train = train.drop(object_cols, axis=1)\n",
    "    num_test = test.drop(object_cols, axis=1)\n",
    "\n",
    "    # Add one-hot encoded columns to numerical/remaining features\n",
    "    OH_train = pd.concat([num_train, OH_cols_train], axis=1)\n",
    "    OH_test = pd.concat([num_test, OH_cols_test], axis=1)\n",
    "    \n",
    "    print(OH_train.shape,OH_test.shape)\n",
    "    \n",
    "    \n",
    "    return OH_train,OH_test"
   ]
  },
  {
   "cell_type": "code",
   "execution_count": 36,
   "metadata": {},
   "outputs": [
    {
     "data": {
      "text/plain": [
       "Index(['Team1', 'Team2', 'HostCountry', 'Team1_Venue', 'Team1_Innings',\n",
       "       'MonthOfMatch', 'MatchWinner', 'Home2Inning', 'Neutral2Inning',\n",
       "       'Away2Inning'],\n",
       "      dtype='object')"
      ]
     },
     "execution_count": 36,
     "metadata": {},
     "output_type": "execute_result"
    }
   ],
   "source": [
    "train.columns"
   ]
  },
  {
   "cell_type": "code",
   "execution_count": null,
   "metadata": {},
   "outputs": [],
   "source": []
  },
  {
   "cell_type": "code",
   "execution_count": 37,
   "metadata": {},
   "outputs": [],
   "source": [
    "# from sklearn.preprocessing import KBinsDiscretizer\n",
    "# enc = KBinsDiscretizer(n_bins=25, encode='ordinal', strategy='kmeans')\n",
    "# enc.fit(np.array(train['Stadium']).reshape(-1,1))\n",
    "# train['Stadium_binned'] = enc.transform(np.array(train['Stadium']).reshape(-1,1))\n",
    "# test['Stadium_binned'] = enc.transform(np.array(test['Stadium']).reshape(-1,1))\n"
   ]
  },
  {
   "cell_type": "code",
   "execution_count": 38,
   "metadata": {},
   "outputs": [],
   "source": [
    "# train = train.drop('Stadium',axis=1)\n",
    "# test = test.drop('Stadium',axis=1)"
   ]
  },
  {
   "cell_type": "code",
   "execution_count": 39,
   "metadata": {},
   "outputs": [
    {
     "data": {
      "text/plain": [
       "Index(['Team1', 'Team2', 'HostCountry', 'Team1_Venue', 'Team1_Innings',\n",
       "       'MonthOfMatch', 'MatchWinner', 'Home2Inning', 'Neutral2Inning',\n",
       "       'Away2Inning'],\n",
       "      dtype='object')"
      ]
     },
     "execution_count": 39,
     "metadata": {},
     "output_type": "execute_result"
    }
   ],
   "source": [
    "train.columns"
   ]
  },
  {
   "cell_type": "code",
   "execution_count": null,
   "metadata": {},
   "outputs": [],
   "source": []
  },
  {
   "cell_type": "code",
   "execution_count": 40,
   "metadata": {},
   "outputs": [],
   "source": [
    "# trainlbl ,testlbl = normalabelencoder(train,test, cols =['Team1_Venue',\n",
    "#        'Team2_Venue', 'Team1_Innings','Team2_Innings', 'MonthOfMatch','Home2Inning', 'Home1Inning', 'Neutral2Inning',\n",
    "#        'Neutral1Inning', 'Away1Inning', 'Away2Inning']) "
   ]
  },
  {
   "cell_type": "code",
   "execution_count": 41,
   "metadata": {},
   "outputs": [
    {
     "name": "stdout",
     "output_type": "stream",
     "text": [
      "['Team1_Venue', 'Team1_Innings', 'MonthOfMatch', 'Home2Inning', 'Neutral2Inning', 'Away2Inning']\n",
      "(2508, 27) (1075, 26)\n"
     ]
    }
   ],
   "source": [
    "trainlblohe ,testlblohe = onhotencoder(train,test, cols = [ 'Team1_Venue', 'Team1_Innings','MonthOfMatch','Home2Inning','Neutral2Inning','Away2Inning']) "
   ]
  },
  {
   "cell_type": "code",
   "execution_count": 42,
   "metadata": {},
   "outputs": [],
   "source": [
    "# trainlblohe ,testlblohe = onhotencoder(train,test, cols = [ 'Team1_Venue',\n",
    "#        'Team2_Venue', 'Team1_Innings', 'Team2_Innings', 'MonthOfMatch']) "
   ]
  },
  {
   "cell_type": "code",
   "execution_count": 49,
   "metadata": {},
   "outputs": [],
   "source": [
    "from catboost import CatBoostClassifier, Pool\n",
    "from sklearn.model_selection import RandomizedSearchCV, GridSearchCV\n",
    "from sklearn.model_selection import train_test_split"
   ]
  },
  {
   "cell_type": "code",
   "execution_count": 91,
   "metadata": {},
   "outputs": [],
   "source": [
    "def score_dataset(X_train, X_valid, y_train, y_valid):\n",
    "    \n",
    "    from xgboost import XGBClassifier\n",
    "    from ngboost.distns import k_categorical\n",
    "    from ngboost.learners import default_tree_learner\n",
    "    from sklearn.metrics import log_loss\n",
    "    \n",
    "    from sklearn.metrics import classification_report\n",
    "    from sklearn.tree import DecisionTreeClassifier\n",
    "    from ngboost import NGBClassifier\n",
    "    from sklearn.ensemble import BaggingClassifier\n",
    "    from lightgbm import LGBMClassifier\n",
    "    from sklearn.calibration import CalibratedClassifierCV\n",
    "    from sklearn.model_selection import StratifiedKFold, KFold,StratifiedShuffleSplit\n",
    "    from scipy.sparse import csr_matrix, hstack\n",
    "    from sklearn.linear_model import Ridge\n",
    "\n",
    "\n",
    "\n",
    "\n",
    "    clf1 = DecisionTreeClassifier(ccp_alpha=0.0, class_weight=None, criterion='entropy',\n",
    "                       max_depth=None, max_features=None, max_leaf_nodes=None,\n",
    "                       min_impurity_decrease=0.0, min_impurity_split=None,\n",
    "                       min_samples_leaf=8, min_samples_split=2,\n",
    "                       min_weight_fraction_leaf=0.0, presort='deprecated',\n",
    "                       random_state=None, splitter='best')\n",
    "\n",
    "    clf2 = BaggingClassifier(base_estimator=clf1, n_estimators=10, \n",
    "                             bootstrap=True,\n",
    "                             bootstrap_features=False, oob_score=True, warm_start=False,\n",
    "                             n_jobs=-1, random_state=786, verbose=0)\n",
    "    \n",
    "    #base = Ridge(alpha=0.0, copy_X=True, fit_intercept=True, max_iter=None,\n",
    "    #              normalize=False, random_state=None, solver='auto', tol=0.001) \n",
    "    #clf2 = NGBClassifier(natural_gradient=True, verbose=False, Dist=k_categorical(16),\n",
    "     #                   minibatch_frac= 1.0, n_estimators= 20)\n",
    "\n",
    "    clf2 = XGBClassifier(subsample= 1.0, n_estimators= 125, min_child_weight= 1, max_depth= 3,\n",
    "                         learning_rate=0.2, gamma= 0.5, colsample_bytree= 0.6,random_state=2)\n",
    "    #clf2 = LGBMClassifier(random_state=2)\n",
    "    #clf2 = CatBoostClassifier(iterations=300,\n",
    "#                            depth=4,\n",
    "#                            learning_rate=0.2,\n",
    "#                            loss_function='MultiClass',\n",
    "#                            verbose=True)\n",
    "\n",
    "    #clf2 = NGBClassifier(random_state=2,Dist=k_categorical(16))\n",
    "    \n",
    "    clf2.fit(X_train,y_train)\n",
    "    \n",
    "    sss = StratifiedShuffleSplit(n_splits=10, test_size=0.4, random_state=3)\n",
    "    sss.get_n_splits(X_train, y_train)\n",
    "    \n",
    "    clf_sigmoid = CalibratedClassifierCV(clf2, cv=sss, method='isotonic')\n",
    "    clf_sigmoid.fit(X_train, y_train)\n",
    "    preds = clf_sigmoid.predict_proba(X_valid)\n",
    "    preds1 = clf_sigmoid.predict(X_valid)\n",
    "\n",
    "#     preds1 = clf2.predict(X_valid)\n",
    "#     preds = clf2.predict_proba(X_valid)\n",
    "    target_names = ['class 0', 'class 1', 'class 2','class 3', 'class 4', 'class 5', 'class 6',\n",
    "                    'class 7', 'class 8', 'class 9','class 10', 'class 11', 'class 12', 'class 13',\n",
    "                    'class 14', 'class 15']\n",
    "    #print(preds)\n",
    "    print(classification_report(y_valid, preds1, target_names=target_names,labels= [0,1,2,3,4,5,6,7,8,9,10,11,12,13,14,15]))\n",
    "    return log_loss(y_valid,preds) "
   ]
  },
  {
   "cell_type": "code",
   "execution_count": 92,
   "metadata": {},
   "outputs": [],
   "source": [
    "params = {\n",
    "        'n_estimators':[50,80,100,125,150,175],\n",
    "        'min_child_weight': [1, 5, 10],\n",
    "        'gamma': [0.5, 1, 1.5, 2, 5],\n",
    "        'subsample': [0.6, 0.8, 1.0],\n",
    "        'colsample_bytree': [0.6, 0.8, 1.0],\n",
    "        'max_depth': [3, 4, 5]\n",
    "        }"
   ]
  },
  {
   "cell_type": "code",
   "execution_count": 93,
   "metadata": {},
   "outputs": [],
   "source": [
    "# xgb = XGBClassifier(learning_rate=0.02, n_estimators=600, objective='binary:logistic',\n",
    "#                     silent=True, nthread=1)\n"
   ]
  },
  {
   "cell_type": "code",
   "execution_count": 94,
   "metadata": {},
   "outputs": [],
   "source": [
    "# folds = 3\n",
    "# param_comb = 5\n",
    "\n",
    "# skf = StratifiedKFold(n_splits=folds, shuffle = True, random_state = 1001)\n",
    "\n",
    "# random_search = RandomizedSearchCV(xgb, param_distributions=params, n_iter=param_comb, scoring='roc_auc', n_jobs=4, cv=skf.split(X,Y), verbose=3, random_state=1001 )\n",
    "\n",
    "# # Here we go\n",
    "# start_time = timer(None) # timing starts from this point for \"start_time\" variable\n",
    "# random_search.fit(X, Y)\n",
    "# timer(start_time)"
   ]
  },
  {
   "cell_type": "code",
   "execution_count": null,
   "metadata": {},
   "outputs": [],
   "source": []
  },
  {
   "cell_type": "code",
   "execution_count": null,
   "metadata": {},
   "outputs": [],
   "source": []
  },
  {
   "cell_type": "code",
   "execution_count": 95,
   "metadata": {},
   "outputs": [],
   "source": [
    "###### from sklearn.model_selection import train_test_split\n",
    "y = trainlblohe.MatchWinner\n",
    "\n",
    "# To keep things simple, we'll use only numerical predictors\n",
    "X = trainlblohe.drop(['MatchWinner'], axis=1)\n",
    "\n",
    "X_train, X_valid, y_train, y_valid = train_test_split(X, y, train_size=0.57, test_size=0.43,random_state=0)"
   ]
  },
  {
   "cell_type": "code",
   "execution_count": 96,
   "metadata": {},
   "outputs": [
    {
     "name": "stdout",
     "output_type": "stream",
     "text": [
      "              precision    recall  f1-score   support\n",
      "\n",
      "     class 0       0.47      0.69      0.56        13\n",
      "     class 1       0.65      0.86      0.74       154\n",
      "     class 2       0.58      0.58      0.58        33\n",
      "     class 3       0.50      0.33      0.40         3\n",
      "     class 4       0.60      0.61      0.60       101\n",
      "     class 5       0.65      0.71      0.68       132\n",
      "     class 6       0.73      0.53      0.62        15\n",
      "     class 7       0.50      0.38      0.43         8\n",
      "     class 8       0.67      0.33      0.44         6\n",
      "     class 9       0.66      0.52      0.58       107\n",
      "    class 10       0.60      0.77      0.68       118\n",
      "    class 11       0.58      1.00      0.74         7\n",
      "    class 12       0.68      0.78      0.73       117\n",
      "    class 13       0.82      0.40      0.54       100\n",
      "    class 14       0.68      0.60      0.64       133\n",
      "    class 15       0.67      0.12      0.21        32\n",
      "\n",
      "    accuracy                           0.65      1079\n",
      "   macro avg       0.63      0.58      0.57      1079\n",
      "weighted avg       0.66      0.65      0.64      1079\n",
      "\n"
     ]
    },
    {
     "data": {
      "text/plain": [
       "0.6560461118617421"
      ]
     },
     "execution_count": 96,
     "metadata": {},
     "output_type": "execute_result"
    }
   ],
   "source": [
    "score_dataset(X_train, X_valid, y_train, y_valid)"
   ]
  },
  {
   "cell_type": "markdown",
   "metadata": {},
   "source": [
    "precision    recall  f1-score   support\n",
    "\n",
    "     class 0       0.47      0.69      0.56        13\n",
    "     class 1       0.66      0.84      0.74       154\n",
    "     class 2       0.55      0.55      0.55        33\n",
    "     class 3       0.50      0.33      0.40         3\n",
    "     class 4       0.59      0.61      0.60       101\n",
    "     class 5       0.65      0.69      0.67       132\n",
    "     class 6       0.75      0.60      0.67        15\n",
    "     class 7       0.75      0.38      0.50         8\n",
    "     class 8       0.83      0.83      0.83         6\n",
    "     class 9       0.68      0.50      0.58       107\n",
    "    class 10       0.60      0.79      0.68       118\n",
    "    class 11       0.58      1.00      0.74         7\n",
    "    class 12       0.70      0.81      0.75       117\n",
    "    class 13       0.84      0.41      0.55       100\n",
    "    class 14       0.67      0.62      0.64       133\n",
    "    class 15       0.71      0.16      0.26        32\n",
    "\n",
    "    accuracy                           0.65      1079\n",
    "   macro avg       0.66      0.61      0.61      1079\n",
    "weighted avg       0.67      0.65      0.64      1079\n",
    "\n",
    "0.6717508402423806"
   ]
  },
  {
   "cell_type": "markdown",
   "metadata": {},
   "source": [
    "precision    recall  f1-score   support\n",
    "\n",
    "     class 0       0.41      0.54      0.47        13\n",
    "     class 1       0.65      0.82      0.73       154\n",
    "     class 2       0.53      0.55      0.54        33\n",
    "     class 3       0.33      0.33      0.33         3\n",
    "     class 4       0.59      0.59      0.59       101\n",
    "     class 5       0.62      0.73      0.67       132\n",
    "     class 6       0.69      0.60      0.64        15\n",
    "     class 7       0.75      0.38      0.50         8\n",
    "     class 8       1.00      0.17      0.29         6\n",
    "     class 9       0.67      0.49      0.56       107\n",
    "    class 10       0.58      0.76      0.66       118\n",
    "    class 11       0.64      1.00      0.78         7\n",
    "    class 12       0.67      0.84      0.74       117\n",
    "    class 13       0.77      0.37      0.50       100\n",
    "    class 14       0.67      0.56      0.61       133\n",
    "    class 15       0.38      0.09      0.15        32\n",
    "\n",
    "    accuracy                           0.63      1079\n",
    "   macro avg       0.62      0.55      0.55      1079\n",
    "weighted avg       0.64      0.63      0.62      1079\n",
    "\n",
    "0.6931829670564903"
   ]
  },
  {
   "cell_type": "code",
   "execution_count": 83,
   "metadata": {},
   "outputs": [
    {
     "name": "stdout",
     "output_type": "stream",
     "text": [
      "[iter 0] loss=2.3886 val_loss=0.0000 scale=0.5000 norm=9.4365\n",
      "[iter 100] loss=1.4553 val_loss=0.0000 scale=1.0000 norm=5.6311\n",
      "[iter 200] loss=0.9715 val_loss=0.0000 scale=1.0000 norm=3.6072\n",
      "[iter 300] loss=0.8678 val_loss=0.0000 scale=1.0000 norm=3.3070\n",
      "[iter 400] loss=0.8126 val_loss=0.0000 scale=1.0000 norm=3.1493\n"
     ]
    },
    {
     "data": {
      "text/plain": [
       "NGBClassifier(Base=DecisionTreeRegressor(ccp_alpha=0.0,\n",
       "                                         criterion='friedman_mse', max_depth=3,\n",
       "                                         max_features=None, max_leaf_nodes=None,\n",
       "                                         min_impurity_decrease=0.0,\n",
       "                                         min_impurity_split=None,\n",
       "                                         min_samples_leaf=1,\n",
       "                                         min_samples_split=2,\n",
       "                                         min_weight_fraction_leaf=0.0,\n",
       "                                         presort='deprecated',\n",
       "                                         random_state=None, splitter='best'),\n",
       "              Dist=<class 'ngboost.distns.categorical.k_categorical.<locals>.Categorical'>,\n",
       "              Score=<class 'ngboost.scores.LogScore'>, learning_rate=0.01,\n",
       "              minibatch_frac=1.0, n_estimators=500, natural_gradient=True,\n",
       "              random_state=RandomState(MT19937) at 0x7F4CB371EDB0, tol=0.0001,\n",
       "              verbose=True, verbose_eval=100)"
      ]
     },
     "execution_count": 83,
     "metadata": {},
     "output_type": "execute_result"
    }
   ],
   "source": [
    "from ngboost import NGBClassifier\n",
    "from ngboost.distns import k_categorical\n",
    "from ngboost.learners import default_tree_learner\n",
    "clf2 = NGBClassifier(random_state=2,Dist=k_categorical(16))\n",
    "clf2.fit(X,y)"
   ]
  },
  {
   "cell_type": "code",
   "execution_count": null,
   "metadata": {},
   "outputs": [],
   "source": [
    "'Base': Ridge(alpha=0.0, copy_X=True, fit_intercept=True, max_iter=None,\n",
    "      normalize=False, random_state=None, solver='auto', tol=0.001), 'minibatch_frac': 1.0, 'n_estimators': 20"
   ]
  },
  {
   "cell_type": "code",
   "execution_count": null,
   "metadata": {},
   "outputs": [],
   "source": [
    "clf2 = NGBClassifier(random_state=2,Dist=k_categorical(16))\n"
   ]
  },
  {
   "cell_type": "code",
   "execution_count": 1129,
   "metadata": {},
   "outputs": [
    {
     "name": "stderr",
     "output_type": "stream",
     "text": [
      "/usr/local/lib/python3.6/dist-packages/sklearn/model_selection/_validation.py:536: FitFailedWarning: Estimator fit failed. The score on this train-test partition for these parameters will be set to nan. Details: \n",
      "TypeError: '(array([ 736, 1941, 1326, ...,  366,  503, 1555]), slice(None, None, None))' is an invalid key\n",
      "\n",
      "  FitFailedWarning)\n",
      "/usr/local/lib/python3.6/dist-packages/sklearn/model_selection/_validation.py:536: FitFailedWarning: Estimator fit failed. The score on this train-test partition for these parameters will be set to nan. Details: \n",
      "TypeError: '(array([1511,  253, 1496, ..., 1966,  900, 1208]), slice(None, None, None))' is an invalid key\n",
      "\n",
      "  FitFailedWarning)\n",
      "/usr/local/lib/python3.6/dist-packages/sklearn/model_selection/_validation.py:536: FitFailedWarning: Estimator fit failed. The score on this train-test partition for these parameters will be set to nan. Details: \n",
      "TypeError: '(array([ 736, 1941, 1326, ...,  366,  503, 1555]), slice(None, None, None))' is an invalid key\n",
      "\n",
      "  FitFailedWarning)\n",
      "/usr/local/lib/python3.6/dist-packages/sklearn/model_selection/_validation.py:536: FitFailedWarning: Estimator fit failed. The score on this train-test partition for these parameters will be set to nan. Details: \n",
      "TypeError: '(array([1511,  253, 1496, ..., 1966,  900, 1208]), slice(None, None, None))' is an invalid key\n",
      "\n",
      "  FitFailedWarning)\n",
      "/home/ryan/.local/lib/python3.6/site-packages/ngboost/distns/categorical.py:9: RuntimeWarning: divide by zero encountered in log\n",
      "  return -np.log(self.probs[Y, range(len(Y))])\n",
      "/home/ryan/.local/lib/python3.6/site-packages/ngboost/distns/categorical.py:9: RuntimeWarning: divide by zero encountered in log\n",
      "  return -np.log(self.probs[Y, range(len(Y))])\n",
      "/usr/local/lib/python3.6/dist-packages/sklearn/model_selection/_validation.py:536: FitFailedWarning: Estimator fit failed. The score on this train-test partition for these parameters will be set to nan. Details: \n",
      "TypeError: '(array([ 736, 1941, 1326, ...,  366,  503, 1555]), slice(None, None, None))' is an invalid key\n",
      "\n",
      "  FitFailedWarning)\n",
      "/usr/local/lib/python3.6/dist-packages/sklearn/model_selection/_validation.py:536: FitFailedWarning: Estimator fit failed. The score on this train-test partition for these parameters will be set to nan. Details: \n",
      "TypeError: '(array([1511,  253, 1496, ..., 1966,  900, 1208]), slice(None, None, None))' is an invalid key\n",
      "\n",
      "  FitFailedWarning)\n",
      "/usr/local/lib/python3.6/dist-packages/sklearn/model_selection/_search.py:788: RuntimeWarning: invalid value encountered in subtract\n",
      "  array_means[:, np.newaxis]) ** 2,\n"
     ]
    },
    {
     "name": "stdout",
     "output_type": "stream",
     "text": [
      "{'Base': Ridge(alpha=0.0, copy_X=True, fit_intercept=True, max_iter=None,\n",
      "      normalize=False, random_state=None, solver='auto', tol=0.001), 'minibatch_frac': 1.0, 'n_estimators': 20}\n"
     ]
    }
   ],
   "source": [
    "from ngboost.distns import k_categorical\n",
    "from ngboost import NGBClassifier\n",
    "from sklearn.datasets import load_breast_cancer\n",
    "from sklearn.model_selection import GridSearchCV, train_test_split\n",
    "from sklearn.tree import DecisionTreeRegressor\n",
    "from sklearn.linear_model import Ridge\n",
    "from xgboost import XGBClassifier\n",
    "from lightgbm import LGBMClassifier\n",
    "\n",
    "\n",
    "b1 = DecisionTreeRegressor(criterion=\"friedman_mse\", max_depth=2)\n",
    "b2 = DecisionTreeRegressor(criterion=\"friedman_mse\", max_depth=4)\n",
    "b3 = Ridge(alpha=0.0)\n",
    "b4 = XGBClassifier(random_state=2)\n",
    "b5 = LGBMClassifier(random_state=2)\n",
    "\n",
    "param_grid = {\n",
    "        \"n_estimators\": [20, 50],\n",
    "        \"minibatch_frac\": [1.0, 0.5],\n",
    "        \"Base\": [b1,b2,b3],\n",
    "    }\n",
    "\n",
    "ngb = NGBClassifier(natural_gradient=True, verbose=False, Dist=k_categorical(16))\n",
    "\n",
    "grid_search = GridSearchCV(ngb, param_grid=param_grid, cv=5)\n",
    "grid_search.fit(X, y)\n",
    "print(grid_search.best_params_)"
   ]
  },
  {
   "cell_type": "code",
   "execution_count": null,
   "metadata": {},
   "outputs": [],
   "source": []
  },
  {
   "cell_type": "code",
   "execution_count": null,
   "metadata": {},
   "outputs": [],
   "source": []
  },
  {
   "cell_type": "code",
   "execution_count": null,
   "metadata": {},
   "outputs": [],
   "source": []
  }
 ],
 "metadata": {
  "kernelspec": {
   "display_name": "Python 3",
   "language": "python",
   "name": "python3"
  },
  "language_info": {
   "codemirror_mode": {
    "name": "ipython",
    "version": 3
   },
   "file_extension": ".py",
   "mimetype": "text/x-python",
   "name": "python",
   "nbconvert_exporter": "python",
   "pygments_lexer": "ipython3",
   "version": "3.6.9"
  }
 },
 "nbformat": 4,
 "nbformat_minor": 4
}
